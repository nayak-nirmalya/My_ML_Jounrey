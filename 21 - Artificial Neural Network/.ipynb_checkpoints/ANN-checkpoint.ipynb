{
 "cells": [
  {
   "cell_type": "markdown",
   "metadata": {},
   "source": [
    "# Artificial Neural Network"
   ]
  },
  {
   "cell_type": "markdown",
   "metadata": {},
   "source": [
    "### Import Data Sets And Libraries"
   ]
  },
  {
   "cell_type": "code",
   "execution_count": 1,
   "metadata": {},
   "outputs": [],
   "source": [
    "import numpy as np\n",
    "import pandas as pd\n",
    "import tensorflow as tf\n",
    "import matplotlib.pyplot as plt"
   ]
  },
  {
   "cell_type": "code",
   "execution_count": 2,
   "metadata": {},
   "outputs": [
    {
     "data": {
      "text/html": [
       "<div>\n",
       "<style scoped>\n",
       "    .dataframe tbody tr th:only-of-type {\n",
       "        vertical-align: middle;\n",
       "    }\n",
       "\n",
       "    .dataframe tbody tr th {\n",
       "        vertical-align: top;\n",
       "    }\n",
       "\n",
       "    .dataframe thead th {\n",
       "        text-align: right;\n",
       "    }\n",
       "</style>\n",
       "<table border=\"1\" class=\"dataframe\">\n",
       "  <thead>\n",
       "    <tr style=\"text-align: right;\">\n",
       "      <th></th>\n",
       "      <th>RowNumber</th>\n",
       "      <th>CustomerId</th>\n",
       "      <th>Surname</th>\n",
       "      <th>CreditScore</th>\n",
       "      <th>Geography</th>\n",
       "      <th>Gender</th>\n",
       "      <th>Age</th>\n",
       "      <th>Tenure</th>\n",
       "      <th>Balance</th>\n",
       "      <th>NumOfProducts</th>\n",
       "      <th>HasCrCard</th>\n",
       "      <th>IsActiveMember</th>\n",
       "      <th>EstimatedSalary</th>\n",
       "      <th>Exited</th>\n",
       "    </tr>\n",
       "  </thead>\n",
       "  <tbody>\n",
       "    <tr>\n",
       "      <th>0</th>\n",
       "      <td>1</td>\n",
       "      <td>15634602</td>\n",
       "      <td>Hargrave</td>\n",
       "      <td>619</td>\n",
       "      <td>France</td>\n",
       "      <td>Female</td>\n",
       "      <td>42</td>\n",
       "      <td>2</td>\n",
       "      <td>0.00</td>\n",
       "      <td>1</td>\n",
       "      <td>1</td>\n",
       "      <td>1</td>\n",
       "      <td>101348.88</td>\n",
       "      <td>1</td>\n",
       "    </tr>\n",
       "    <tr>\n",
       "      <th>1</th>\n",
       "      <td>2</td>\n",
       "      <td>15647311</td>\n",
       "      <td>Hill</td>\n",
       "      <td>608</td>\n",
       "      <td>Spain</td>\n",
       "      <td>Female</td>\n",
       "      <td>41</td>\n",
       "      <td>1</td>\n",
       "      <td>83807.86</td>\n",
       "      <td>1</td>\n",
       "      <td>0</td>\n",
       "      <td>1</td>\n",
       "      <td>112542.58</td>\n",
       "      <td>0</td>\n",
       "    </tr>\n",
       "    <tr>\n",
       "      <th>2</th>\n",
       "      <td>3</td>\n",
       "      <td>15619304</td>\n",
       "      <td>Onio</td>\n",
       "      <td>502</td>\n",
       "      <td>France</td>\n",
       "      <td>Female</td>\n",
       "      <td>42</td>\n",
       "      <td>8</td>\n",
       "      <td>159660.80</td>\n",
       "      <td>3</td>\n",
       "      <td>1</td>\n",
       "      <td>0</td>\n",
       "      <td>113931.57</td>\n",
       "      <td>1</td>\n",
       "    </tr>\n",
       "    <tr>\n",
       "      <th>3</th>\n",
       "      <td>4</td>\n",
       "      <td>15701354</td>\n",
       "      <td>Boni</td>\n",
       "      <td>699</td>\n",
       "      <td>France</td>\n",
       "      <td>Female</td>\n",
       "      <td>39</td>\n",
       "      <td>1</td>\n",
       "      <td>0.00</td>\n",
       "      <td>2</td>\n",
       "      <td>0</td>\n",
       "      <td>0</td>\n",
       "      <td>93826.63</td>\n",
       "      <td>0</td>\n",
       "    </tr>\n",
       "    <tr>\n",
       "      <th>4</th>\n",
       "      <td>5</td>\n",
       "      <td>15737888</td>\n",
       "      <td>Mitchell</td>\n",
       "      <td>850</td>\n",
       "      <td>Spain</td>\n",
       "      <td>Female</td>\n",
       "      <td>43</td>\n",
       "      <td>2</td>\n",
       "      <td>125510.82</td>\n",
       "      <td>1</td>\n",
       "      <td>1</td>\n",
       "      <td>1</td>\n",
       "      <td>79084.10</td>\n",
       "      <td>0</td>\n",
       "    </tr>\n",
       "  </tbody>\n",
       "</table>\n",
       "</div>"
      ],
      "text/plain": [
       "   RowNumber  CustomerId   Surname  CreditScore Geography  Gender  Age  \\\n",
       "0          1    15634602  Hargrave          619    France  Female   42   \n",
       "1          2    15647311      Hill          608     Spain  Female   41   \n",
       "2          3    15619304      Onio          502    France  Female   42   \n",
       "3          4    15701354      Boni          699    France  Female   39   \n",
       "4          5    15737888  Mitchell          850     Spain  Female   43   \n",
       "\n",
       "   Tenure    Balance  NumOfProducts  HasCrCard  IsActiveMember  \\\n",
       "0       2       0.00              1          1               1   \n",
       "1       1   83807.86              1          0               1   \n",
       "2       8  159660.80              3          1               0   \n",
       "3       1       0.00              2          0               0   \n",
       "4       2  125510.82              1          1               1   \n",
       "\n",
       "   EstimatedSalary  Exited  \n",
       "0        101348.88       1  \n",
       "1        112542.58       0  \n",
       "2        113931.57       1  \n",
       "3         93826.63       0  \n",
       "4         79084.10       0  "
      ]
     },
     "execution_count": 2,
     "metadata": {},
     "output_type": "execute_result"
    }
   ],
   "source": [
    "data_set = pd.read_csv('Churn_Modelling.csv')\n",
    "data_set.head()"
   ]
  },
  {
   "cell_type": "code",
   "execution_count": 3,
   "metadata": {},
   "outputs": [
    {
     "name": "stdout",
     "output_type": "stream",
     "text": [
      "[[619 'France' 'Female' ... 1 1 101348.88]\n",
      " [608 'Spain' 'Female' ... 0 1 112542.58]\n",
      " [502 'France' 'Female' ... 1 0 113931.57]\n",
      " ...\n",
      " [709 'France' 'Female' ... 0 1 42085.58]\n",
      " [772 'Germany' 'Male' ... 1 0 92888.52]\n",
      " [792 'France' 'Female' ... 1 0 38190.78]] [1 0 1 ... 1 1 0]\n"
     ]
    }
   ],
   "source": [
    "X = data_set.iloc[:, 3:13].values\n",
    "y = data_set.iloc[:, -1].values\n",
    "print(X, y)"
   ]
  },
  {
   "cell_type": "markdown",
   "metadata": {},
   "source": [
    "### Taking Care of Catagorical Data"
   ]
  },
  {
   "cell_type": "code",
   "execution_count": 4,
   "metadata": {},
   "outputs": [],
   "source": [
    "from sklearn.preprocessing import LabelEncoder, OneHotEncoder"
   ]
  },
  {
   "cell_type": "code",
   "execution_count": 5,
   "metadata": {},
   "outputs": [],
   "source": [
    "# for geographical location\n",
    "LabelEncoder_Geography = LabelEncoder()\n",
    "X[:, 1] = LabelEncoder_Geography.fit_transform(X[:, 1])"
   ]
  },
  {
   "cell_type": "code",
   "execution_count": 6,
   "metadata": {},
   "outputs": [
    {
     "name": "stdout",
     "output_type": "stream",
     "text": [
      "[[619 0 'Female' ... 1 1 101348.88]\n",
      " [608 2 'Female' ... 0 1 112542.58]\n",
      " [502 0 'Female' ... 1 0 113931.57]\n",
      " ...\n",
      " [709 0 'Female' ... 0 1 42085.58]\n",
      " [772 1 'Male' ... 1 0 92888.52]\n",
      " [792 0 'Female' ... 1 0 38190.78]]\n"
     ]
    }
   ],
   "source": [
    "X[:, 1],\n",
    "print(X)"
   ]
  },
  {
   "cell_type": "code",
   "execution_count": 7,
   "metadata": {},
   "outputs": [],
   "source": [
    "# for gender\n",
    "LabelEncoder_Geography = LabelEncoder()\n",
    "X[:, 2] = LabelEncoder_Geography.fit_transform(X[:, 2])"
   ]
  },
  {
   "cell_type": "code",
   "execution_count": 8,
   "metadata": {},
   "outputs": [
    {
     "name": "stdout",
     "output_type": "stream",
     "text": [
      "[[619 0 0 ... 1 1 101348.88]\n",
      " [608 2 0 ... 0 1 112542.58]\n",
      " [502 0 0 ... 1 0 113931.57]\n",
      " ...\n",
      " [709 0 0 ... 0 1 42085.58]\n",
      " [772 1 1 ... 1 0 92888.52]\n",
      " [792 0 0 ... 1 0 38190.78]]\n"
     ]
    }
   ],
   "source": [
    "print(X)"
   ]
  },
  {
   "cell_type": "code",
   "execution_count": 9,
   "metadata": {},
   "outputs": [],
   "source": [
    "one_hot_encoder = OneHotEncoder()\n",
    "X = one_hot_encoder.fit_transform(X).toarray()"
   ]
  },
  {
   "cell_type": "code",
   "execution_count": 10,
   "metadata": {},
   "outputs": [
    {
     "data": {
      "text/plain": [
       "array([[0., 0., 0., ..., 0., 0., 0.],\n",
       "       [0., 0., 0., ..., 0., 0., 0.],\n",
       "       [0., 0., 0., ..., 0., 0., 0.],\n",
       "       ...,\n",
       "       [0., 0., 0., ..., 0., 0., 0.],\n",
       "       [0., 0., 0., ..., 0., 0., 0.],\n",
       "       [0., 0., 0., ..., 0., 0., 0.]])"
      ]
     },
     "execution_count": 10,
     "metadata": {},
     "output_type": "execute_result"
    }
   ],
   "source": [
    "X"
   ]
  },
  {
   "cell_type": "code",
   "execution_count": 11,
   "metadata": {},
   "outputs": [],
   "source": [
    "X = X[:, 1:]"
   ]
  },
  {
   "cell_type": "code",
   "execution_count": 12,
   "metadata": {},
   "outputs": [
    {
     "data": {
      "text/plain": [
       "array([[0., 0., 0., ..., 0., 0., 0.],\n",
       "       [0., 0., 0., ..., 0., 0., 0.],\n",
       "       [0., 0., 0., ..., 0., 0., 0.],\n",
       "       ...,\n",
       "       [0., 0., 0., ..., 0., 0., 0.],\n",
       "       [0., 0., 0., ..., 0., 0., 0.],\n",
       "       [0., 0., 0., ..., 0., 0., 0.]])"
      ]
     },
     "execution_count": 12,
     "metadata": {},
     "output_type": "execute_result"
    }
   ],
   "source": [
    "X"
   ]
  },
  {
   "cell_type": "markdown",
   "metadata": {},
   "source": [
    "### Spliting Data Sets Into Training And Testing Sets"
   ]
  },
  {
   "cell_type": "code",
   "execution_count": 13,
   "metadata": {},
   "outputs": [],
   "source": [
    "from sklearn.model_selection import train_test_split"
   ]
  },
  {
   "cell_type": "code",
   "execution_count": 14,
   "metadata": {},
   "outputs": [
    {
     "name": "stdout",
     "output_type": "stream",
     "text": [
      "[[0. 0. 0. ... 0. 0. 0.]\n",
      " [0. 0. 0. ... 0. 0. 0.]\n",
      " [0. 0. 0. ... 0. 0. 0.]\n",
      " ...\n",
      " [0. 0. 0. ... 0. 0. 0.]\n",
      " [0. 0. 0. ... 0. 0. 0.]\n",
      " [0. 0. 0. ... 0. 0. 0.]] [[0. 0. 0. ... 0. 0. 0.]\n",
      " [0. 0. 0. ... 0. 0. 0.]\n",
      " [0. 0. 0. ... 0. 0. 0.]\n",
      " ...\n",
      " [0. 0. 0. ... 0. 0. 0.]\n",
      " [0. 0. 0. ... 0. 0. 0.]\n",
      " [0. 0. 0. ... 0. 0. 0.]] [0 1 0 ... 1 0 0] [1 0 0 ... 0 0 0]\n"
     ]
    }
   ],
   "source": [
    "X_train, X_test, y_train, y_test = train_test_split(X, y, test_size = 0.2)\n",
    "print(X_train, X_test, y_train, y_test)"
   ]
  },
  {
   "cell_type": "markdown",
   "metadata": {},
   "source": [
    "### Building ANN"
   ]
  },
  {
   "cell_type": "code",
   "execution_count": 15,
   "metadata": {},
   "outputs": [],
   "source": [
    "# Initializing ANN\n",
    "classifier = tf.keras.models.Sequential()"
   ]
  },
  {
   "cell_type": "code",
   "execution_count": 16,
   "metadata": {},
   "outputs": [],
   "source": [
    "#Adding Input Layer\n",
    "classifier.add(tf.keras.layers.Dense(units = 6, activation = 'relu'))"
   ]
  },
  {
   "cell_type": "code",
   "execution_count": 17,
   "metadata": {},
   "outputs": [],
   "source": [
    "#Adding Input Layer\n",
    "classifier.add(tf.keras.layers.Dense(units = 6, activation = 'relu'))"
   ]
  },
  {
   "cell_type": "code",
   "execution_count": 18,
   "metadata": {},
   "outputs": [],
   "source": [
    "#Adding Input Layer\n",
    "classifier.add(tf.keras.layers.Dense(units = 1, activation = 'sigmoid'))"
   ]
  },
  {
   "cell_type": "code",
   "execution_count": 19,
   "metadata": {},
   "outputs": [],
   "source": [
    "classifier.compile(optimizer = 'adam',\n",
    "                  loss = 'binary_crossentropy',\n",
    "                  metrics = [\"accuracy\"])"
   ]
  },
  {
   "cell_type": "code",
   "execution_count": 20,
   "metadata": {},
   "outputs": [
    {
     "name": "stdout",
     "output_type": "stream",
     "text": [
      "Epoch 1/100\n",
      "250/250 [==============================] - 1s 5ms/step - loss: 0.5033 - accuracy: 0.8002\n",
      "Epoch 2/100\n",
      "250/250 [==============================] - 1s 5ms/step - loss: 0.3448 - accuracy: 0.8601\n",
      "Epoch 3/100\n",
      "250/250 [==============================] - 1s 5ms/step - loss: 0.2683 - accuracy: 0.8975\n",
      "Epoch 4/100\n",
      "250/250 [==============================] - 1s 5ms/step - loss: 0.1969 - accuracy: 0.9311\n",
      "Epoch 5/100\n",
      "250/250 [==============================] - 1s 5ms/step - loss: 0.1240 - accuracy: 0.9659\n",
      "Epoch 6/100\n",
      "250/250 [==============================] - 1s 5ms/step - loss: 0.0674 - accuracy: 0.9870\n",
      "Epoch 7/100\n",
      "250/250 [==============================] - 2s 7ms/step - loss: 0.0348 - accuracy: 0.9960\n",
      "Epoch 8/100\n",
      "250/250 [==============================] - 1s 6ms/step - loss: 0.0189 - accuracy: 0.9989\n",
      "Epoch 9/100\n",
      "250/250 [==============================] - 2s 6ms/step - loss: 0.0111 - accuracy: 0.9995\n",
      "Epoch 10/100\n",
      "250/250 [==============================] - 1s 5ms/step - loss: 0.0070 - accuracy: 1.0000\n",
      "Epoch 11/100\n",
      "250/250 [==============================] - 1s 5ms/step - loss: 0.0041 - accuracy: 1.0000\n",
      "Epoch 12/100\n",
      "250/250 [==============================] - 1s 5ms/step - loss: 0.0023 - accuracy: 1.0000\n",
      "Epoch 13/100\n",
      "250/250 [==============================] - 1s 5ms/step - loss: 0.0014 - accuracy: 1.0000\n",
      "Epoch 14/100\n",
      "250/250 [==============================] - 1s 5ms/step - loss: 9.5881e-04 - accuracy: 1.0000\n",
      "Epoch 15/100\n",
      "250/250 [==============================] - 1s 5ms/step - loss: 6.7853e-04 - accuracy: 1.0000\n",
      "Epoch 16/100\n",
      "250/250 [==============================] - 1s 5ms/step - loss: 5.0108e-04 - accuracy: 1.0000\n",
      "Epoch 17/100\n",
      "250/250 [==============================] - 1s 6ms/step - loss: 3.7876e-04 - accuracy: 1.0000\n",
      "Epoch 18/100\n",
      "250/250 [==============================] - 1s 5ms/step - loss: 2.9287e-04 - accuracy: 1.0000\n",
      "Epoch 19/100\n",
      "250/250 [==============================] - 1s 5ms/step - loss: 2.2998e-04 - accuracy: 1.0000\n",
      "Epoch 20/100\n",
      "250/250 [==============================] - 1s 5ms/step - loss: 1.8322e-04 - accuracy: 1.0000\n",
      "Epoch 21/100\n",
      "250/250 [==============================] - 1s 5ms/step - loss: 1.4768e-04 - accuracy: 1.0000\n",
      "Epoch 22/100\n",
      "250/250 [==============================] - 1s 5ms/step - loss: 1.1973e-04 - accuracy: 1.0000\n",
      "Epoch 23/100\n",
      "250/250 [==============================] - 1s 5ms/step - loss: 9.8144e-05 - accuracy: 1.0000\n",
      "Epoch 24/100\n",
      "250/250 [==============================] - 1s 5ms/step - loss: 8.0929e-05 - accuracy: 1.0000\n",
      "Epoch 25/100\n",
      "250/250 [==============================] - 1s 5ms/step - loss: 6.7110e-05 - accuracy: 1.0000\n",
      "Epoch 26/100\n",
      "250/250 [==============================] - 1s 5ms/step - loss: 5.6041e-05 - accuracy: 1.0000\n",
      "Epoch 27/100\n",
      "250/250 [==============================] - 1s 5ms/step - loss: 4.6662e-05 - accuracy: 1.0000\n",
      "Epoch 28/100\n",
      "250/250 [==============================] - 1s 5ms/step - loss: 3.9308e-05 - accuracy: 1.0000\n",
      "Epoch 29/100\n",
      "250/250 [==============================] - 1s 5ms/step - loss: 3.3112e-05 - accuracy: 1.0000\n",
      "Epoch 30/100\n",
      "250/250 [==============================] - 1s 5ms/step - loss: 2.7973e-05 - accuracy: 1.0000\n",
      "Epoch 31/100\n",
      "250/250 [==============================] - 1s 5ms/step - loss: 2.3748e-05 - accuracy: 1.0000\n",
      "Epoch 32/100\n",
      "250/250 [==============================] - 1s 5ms/step - loss: 2.0138e-05 - accuracy: 1.0000\n",
      "Epoch 33/100\n",
      "250/250 [==============================] - 1s 5ms/step - loss: 1.7161e-05 - accuracy: 1.0000\n",
      "Epoch 34/100\n",
      "250/250 [==============================] - 1s 5ms/step - loss: 1.4617e-05 - accuracy: 1.0000\n",
      "Epoch 35/100\n",
      "250/250 [==============================] - 1s 6ms/step - loss: 1.2510e-05 - accuracy: 1.0000\n",
      "Epoch 36/100\n",
      "250/250 [==============================] - 1s 6ms/step - loss: 1.0706e-05 - accuracy: 1.0000\n",
      "Epoch 37/100\n",
      "250/250 [==============================] - 1s 5ms/step - loss: 9.1664e-06 - accuracy: 1.0000\n",
      "Epoch 38/100\n",
      "250/250 [==============================] - 1s 5ms/step - loss: 7.8684e-06 - accuracy: 1.0000\n",
      "Epoch 39/100\n",
      "250/250 [==============================] - 1s 5ms/step - loss: 6.7579e-06 - accuracy: 1.0000\n",
      "Epoch 40/100\n",
      "250/250 [==============================] - 1s 6ms/step - loss: 5.8114e-06 - accuracy: 1.0000\n",
      "Epoch 41/100\n",
      "250/250 [==============================] - 1s 5ms/step - loss: 5.0055e-06 - accuracy: 1.0000\n",
      "Epoch 42/100\n",
      "250/250 [==============================] - 1s 5ms/step - loss: 4.3094e-06 - accuracy: 1.0000\n",
      "Epoch 43/100\n",
      "250/250 [==============================] - 1s 5ms/step - loss: 3.7277e-06 - accuracy: 1.0000\n",
      "Epoch 44/100\n",
      "250/250 [==============================] - 1s 5ms/step - loss: 3.2109e-06 - accuracy: 1.0000\n",
      "Epoch 45/100\n",
      "250/250 [==============================] - 1s 6ms/step - loss: 2.7729e-06 - accuracy: 1.0000\n",
      "Epoch 46/100\n",
      "250/250 [==============================] - 1s 6ms/step - loss: 2.3940e-06 - accuracy: 1.0000\n",
      "Epoch 47/100\n",
      "250/250 [==============================] - 1s 6ms/step - loss: 2.0689e-06 - accuracy: 1.0000\n",
      "Epoch 48/100\n",
      "250/250 [==============================] - 1s 5ms/step - loss: 1.7958e-06 - accuracy: 1.0000\n",
      "Epoch 49/100\n",
      "250/250 [==============================] - 1s 5ms/step - loss: 1.5537e-06 - accuracy: 1.0000\n",
      "Epoch 50/100\n",
      "250/250 [==============================] - 1s 5ms/step - loss: 1.3472e-06 - accuracy: 1.0000\n",
      "Epoch 51/100\n",
      "250/250 [==============================] - 1s 5ms/step - loss: 1.1685e-06 - accuracy: 1.0000\n",
      "Epoch 52/100\n",
      "250/250 [==============================] - 1s 5ms/step - loss: 1.0137e-06 - accuracy: 1.0000\n",
      "Epoch 53/100\n",
      "250/250 [==============================] - 1s 5ms/step - loss: 8.8062e-07 - accuracy: 1.0000\n",
      "Epoch 54/100\n",
      "250/250 [==============================] - 1s 5ms/step - loss: 7.6449e-07 - accuracy: 1.0000\n",
      "Epoch 55/100\n",
      "250/250 [==============================] - 1s 5ms/step - loss: 6.6435e-07 - accuracy: 1.0000\n",
      "Epoch 56/100\n",
      "250/250 [==============================] - 1s 5ms/step - loss: 5.7733e-07 - accuracy: 1.0000\n",
      "Epoch 57/100\n",
      "250/250 [==============================] - 1s 5ms/step - loss: 5.0218e-07 - accuracy: 1.0000\n",
      "Epoch 58/100\n",
      "250/250 [==============================] - 1s 5ms/step - loss: 4.3767e-07 - accuracy: 1.0000\n",
      "Epoch 59/100\n",
      "250/250 [==============================] - 1s 5ms/step - loss: 3.8085e-07 - accuracy: 1.0000\n",
      "Epoch 60/100\n",
      "250/250 [==============================] - 1s 5ms/step - loss: 3.3216e-07 - accuracy: 1.0000\n",
      "Epoch 61/100\n",
      "250/250 [==============================] - 1s 5ms/step - loss: 2.8969e-07 - accuracy: 1.0000\n",
      "Epoch 62/100\n",
      "250/250 [==============================] - 1s 5ms/step - loss: 2.5277e-07 - accuracy: 1.0000\n",
      "Epoch 63/100\n",
      "250/250 [==============================] - 1s 5ms/step - loss: 2.2075e-07 - accuracy: 1.0000\n",
      "Epoch 64/100\n",
      "250/250 [==============================] - 1s 5ms/step - loss: 1.9291e-07 - accuracy: 1.0000\n",
      "Epoch 65/100\n",
      "250/250 [==============================] - 1s 5ms/step - loss: 1.6875e-07 - accuracy: 1.0000\n",
      "Epoch 66/100\n",
      "250/250 [==============================] - 1s 5ms/step - loss: 1.4761e-07 - accuracy: 1.0000\n",
      "Epoch 67/100\n",
      "250/250 [==============================] - 1s 5ms/step - loss: 1.2923e-07 - accuracy: 1.0000\n",
      "Epoch 68/100\n",
      "250/250 [==============================] - 1s 5ms/step - loss: 1.1323e-07 - accuracy: 1.0000\n",
      "Epoch 69/100\n",
      "250/250 [==============================] - 1s 5ms/step - loss: 9.9354e-08 - accuracy: 1.0000\n",
      "Epoch 70/100\n",
      "250/250 [==============================] - 1s 5ms/step - loss: 8.7262e-08 - accuracy: 1.0000\n",
      "Epoch 71/100\n",
      "250/250 [==============================] - 1s 5ms/step - loss: 7.6541e-08 - accuracy: 1.0000\n",
      "Epoch 72/100\n",
      "250/250 [==============================] - 1s 5ms/step - loss: 6.7330e-08 - accuracy: 1.0000\n",
      "Epoch 73/100\n",
      "250/250 [==============================] - 1s 5ms/step - loss: 5.9306e-08 - accuracy: 1.0000\n",
      "Epoch 74/100\n",
      "250/250 [==============================] - 1s 5ms/step - loss: 5.2251e-08 - accuracy: 1.0000\n",
      "Epoch 75/100\n",
      "250/250 [==============================] - 1s 5ms/step - loss: 4.6111e-08 - accuracy: 1.0000\n",
      "Epoch 76/100\n",
      "250/250 [==============================] - 1s 5ms/step - loss: 4.0738e-08 - accuracy: 1.0000\n",
      "Epoch 77/100\n",
      "250/250 [==============================] - 1s 5ms/step - loss: 3.6013e-08 - accuracy: 1.0000\n",
      "Epoch 78/100\n"
     ]
    },
    {
     "name": "stdout",
     "output_type": "stream",
     "text": [
      "250/250 [==============================] - 1s 5ms/step - loss: 3.2008e-08 - accuracy: 1.0000\n",
      "Epoch 79/100\n",
      "250/250 [==============================] - 1s 5ms/step - loss: 2.8417e-08 - accuracy: 1.0000\n",
      "Epoch 80/100\n",
      "250/250 [==============================] - 1s 5ms/step - loss: 2.5336e-08 - accuracy: 1.0000\n",
      "Epoch 81/100\n",
      "250/250 [==============================] - 1s 5ms/step - loss: 2.2580e-08 - accuracy: 1.0000\n",
      "Epoch 82/100\n",
      "250/250 [==============================] - 1s 5ms/step - loss: 2.0154e-08 - accuracy: 1.0000\n",
      "Epoch 83/100\n",
      "250/250 [==============================] - 1s 5ms/step - loss: 1.8063e-08 - accuracy: 1.0000\n",
      "Epoch 84/100\n",
      "250/250 [==============================] - 1s 5ms/step - loss: 1.6206e-08 - accuracy: 1.0000\n",
      "Epoch 85/100\n",
      "250/250 [==============================] - 1s 5ms/step - loss: 1.4607e-08 - accuracy: 1.0000\n",
      "Epoch 86/100\n",
      "250/250 [==============================] - 1s 5ms/step - loss: 1.3175e-08 - accuracy: 1.0000\n",
      "Epoch 87/100\n",
      "250/250 [==============================] - 1s 5ms/step - loss: 1.1945e-08 - accuracy: 1.0000\n",
      "Epoch 88/100\n",
      "250/250 [==============================] - 1s 5ms/step - loss: 1.0841e-08 - accuracy: 1.0000\n",
      "Epoch 89/100\n",
      "250/250 [==============================] - 1s 5ms/step - loss: 9.9270e-09 - accuracy: 1.0000\n",
      "Epoch 90/100\n",
      "250/250 [==============================] - 1s 5ms/step - loss: 9.0861e-09 - accuracy: 1.0000\n",
      "Epoch 91/100\n",
      "250/250 [==============================] - 1s 5ms/step - loss: 8.3963e-09 - accuracy: 1.0000\n",
      "Epoch 92/100\n",
      "250/250 [==============================] - 1s 5ms/step - loss: 7.7556e-09 - accuracy: 1.0000\n",
      "Epoch 93/100\n",
      "250/250 [==============================] - 1s 5ms/step - loss: 7.1575e-09 - accuracy: 1.0000\n",
      "Epoch 94/100\n",
      "250/250 [==============================] - 1s 5ms/step - loss: 6.6961e-09 - accuracy: 1.0000\n",
      "Epoch 95/100\n",
      "250/250 [==============================] - 1s 5ms/step - loss: 6.2885e-09 - accuracy: 1.0000\n",
      "Epoch 96/100\n",
      "250/250 [==============================] - 1s 6ms/step - loss: 5.9230e-09 - accuracy: 1.0000\n",
      "Epoch 97/100\n",
      "250/250 [==============================] - 1s 5ms/step - loss: 5.5634e-09 - accuracy: 1.0000\n",
      "Epoch 98/100\n",
      "250/250 [==============================] - 1s 5ms/step - loss: 5.2440e-09 - accuracy: 1.0000\n",
      "Epoch 99/100\n",
      "250/250 [==============================] - 1s 5ms/step - loss: 5.0133e-09 - accuracy: 1.0000\n",
      "Epoch 100/100\n",
      "250/250 [==============================] - 1s 5ms/step - loss: 4.8214e-09 - accuracy: 1.0000\n"
     ]
    },
    {
     "data": {
      "text/plain": [
       "<tensorflow.python.keras.callbacks.History at 0x201f62b1108>"
      ]
     },
     "execution_count": 20,
     "metadata": {},
     "output_type": "execute_result"
    }
   ],
   "source": [
    "classifier.fit(X_train, y_train, batch_size = 32, epochs = 100, verbose = 1)"
   ]
  },
  {
   "cell_type": "markdown",
   "metadata": {},
   "source": [
    "### Predicting Results"
   ]
  },
  {
   "cell_type": "code",
   "execution_count": 21,
   "metadata": {},
   "outputs": [],
   "source": [
    "y_pred = classifier.predict(X_test)\n",
    "y_pred = (y_pred > 0.5)\n",
    "#print(np.concatenate((y_pred.reshape(len(y_pred),1), y_test.reshape(len(y_test),1)),1))"
   ]
  },
  {
   "cell_type": "markdown",
   "metadata": {},
   "source": [
    "### Confussion Matrix"
   ]
  },
  {
   "cell_type": "code",
   "execution_count": 22,
   "metadata": {},
   "outputs": [],
   "source": [
    "from sklearn.metrics import confusion_matrix"
   ]
  },
  {
   "cell_type": "code",
   "execution_count": 23,
   "metadata": {},
   "outputs": [
    {
     "name": "stdout",
     "output_type": "stream",
     "text": [
      "[[1349  245]\n",
      " [ 198  208]]\n"
     ]
    }
   ],
   "source": [
    "cm = confusion_matrix(y_test, y_pred)\n",
    "print(cm)"
   ]
  },
  {
   "cell_type": "markdown",
   "metadata": {},
   "source": [
    "# END"
   ]
  }
 ],
 "metadata": {
  "kernelspec": {
   "display_name": "Python 3",
   "language": "python",
   "name": "python3"
  },
  "language_info": {
   "codemirror_mode": {
    "name": "ipython",
    "version": 3
   },
   "file_extension": ".py",
   "mimetype": "text/x-python",
   "name": "python",
   "nbconvert_exporter": "python",
   "pygments_lexer": "ipython3",
   "version": "3.7.6"
  }
 },
 "nbformat": 4,
 "nbformat_minor": 4
}
