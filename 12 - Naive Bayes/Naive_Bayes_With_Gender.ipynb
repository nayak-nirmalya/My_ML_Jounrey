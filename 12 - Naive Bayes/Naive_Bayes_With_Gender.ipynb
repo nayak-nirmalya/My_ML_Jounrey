{
 "cells": [
  {
   "cell_type": "markdown",
   "metadata": {},
   "source": [
    "# Naive_Bayes"
   ]
  },
  {
   "cell_type": "markdown",
   "metadata": {},
   "source": [
    "### Importing Libraries And Datasets"
   ]
  },
  {
   "cell_type": "code",
   "execution_count": 1,
   "metadata": {},
   "outputs": [],
   "source": [
    "import pandas as pd\n",
    "import numpy as np\n",
    "import matplotlib.pyplot as plt"
   ]
  },
  {
   "cell_type": "code",
   "execution_count": 2,
   "metadata": {},
   "outputs": [
    {
     "name": "stdout",
     "output_type": "stream",
     "text": [
      "    User ID  Gender  Age  EstimatedSalary  Purchased\n",
      "0  15624510    Male   19            19000          0\n",
      "1  15810944    Male   35            20000          0\n",
      "2  15668575  Female   26            43000          0\n",
      "3  15603246  Female   27            57000          0\n",
      "4  15804002    Male   19            76000          0\n",
      "            User ID         Age  EstimatedSalary   Purchased\n",
      "count  4.000000e+02  400.000000       400.000000  400.000000\n",
      "mean   1.569154e+07   37.655000     69742.500000    0.357500\n",
      "std    7.165832e+04   10.482877     34096.960282    0.479864\n",
      "min    1.556669e+07   18.000000     15000.000000    0.000000\n",
      "25%    1.562676e+07   29.750000     43000.000000    0.000000\n",
      "50%    1.569434e+07   37.000000     70000.000000    0.000000\n",
      "75%    1.575036e+07   46.000000     88000.000000    1.000000\n",
      "max    1.581524e+07   60.000000    150000.000000    1.000000\n"
     ]
    }
   ],
   "source": [
    "data_set = pd.read_csv('Social_Network_Ads.csv')\n",
    "print(data_set.head())\n",
    "print(data_set.describe())"
   ]
  },
  {
   "cell_type": "code",
   "execution_count": 3,
   "metadata": {},
   "outputs": [
    {
     "data": {
      "text/plain": [
       "array([['Male', 19, 19000],\n",
       "       ['Male', 35, 20000],\n",
       "       ['Female', 26, 43000],\n",
       "       ...,\n",
       "       ['Female', 50, 20000],\n",
       "       ['Male', 36, 33000],\n",
       "       ['Female', 49, 36000]], dtype=object)"
      ]
     },
     "execution_count": 3,
     "metadata": {},
     "output_type": "execute_result"
    }
   ],
   "source": [
    "X = data_set.iloc[:, 1:4].values\n",
    "X"
   ]
  },
  {
   "cell_type": "code",
   "execution_count": 4,
   "metadata": {},
   "outputs": [
    {
     "data": {
      "text/plain": [
       "array([0, 0, 0, 0, 0, 0, 0, 1, 0, 0, 0, 0, 0, 0, 0, 0, 1, 1, 1, 1, 1, 1,\n",
       "       1, 1, 1, 1, 1, 1, 0, 0, 0, 1, 0, 0, 0, 0, 0, 0, 0, 0, 0, 0, 0, 0,\n",
       "       0, 0, 0, 0, 1, 0, 0, 0, 0, 0, 0, 0, 0, 0, 0, 0, 0, 0, 0, 1, 0, 0,\n",
       "       0, 0, 0, 0, 0, 0, 0, 0, 0, 1, 0, 0, 0, 0, 0, 0, 0, 0, 0, 1, 0, 0,\n",
       "       0, 0, 0, 0, 0, 0, 0, 0, 0, 1, 0, 0, 0, 0, 0, 1, 0, 0, 0, 0, 0, 0,\n",
       "       0, 0, 0, 0, 0, 0, 0, 0, 0, 0, 0, 0, 0, 0, 0, 0, 0, 0, 0, 0, 0, 0,\n",
       "       0, 0, 0, 0, 0, 1, 0, 0, 0, 0, 0, 0, 0, 0, 1, 0, 0, 0, 0, 0, 0, 0,\n",
       "       0, 0, 0, 0, 0, 1, 1, 0, 0, 0, 0, 0, 0, 0, 1, 0, 0, 0, 0, 0, 0, 0,\n",
       "       0, 0, 0, 0, 0, 0, 1, 0, 0, 0, 0, 0, 0, 0, 0, 0, 0, 0, 0, 0, 0, 0,\n",
       "       0, 0, 0, 0, 1, 0, 1, 0, 1, 0, 1, 0, 1, 1, 0, 0, 0, 1, 0, 0, 0, 1,\n",
       "       0, 1, 1, 1, 0, 0, 1, 1, 0, 1, 1, 0, 1, 1, 0, 1, 0, 0, 0, 1, 1, 0,\n",
       "       1, 1, 0, 1, 0, 1, 0, 1, 0, 0, 1, 1, 0, 1, 0, 0, 1, 1, 0, 1, 1, 0,\n",
       "       1, 1, 0, 0, 1, 0, 0, 1, 1, 1, 1, 1, 0, 1, 1, 1, 1, 0, 1, 1, 0, 1,\n",
       "       0, 1, 0, 1, 1, 1, 1, 0, 0, 0, 1, 1, 0, 1, 1, 1, 1, 1, 0, 0, 0, 1,\n",
       "       1, 0, 0, 1, 0, 1, 0, 1, 1, 0, 1, 0, 1, 1, 0, 1, 1, 0, 0, 0, 1, 1,\n",
       "       0, 1, 0, 0, 1, 0, 1, 0, 0, 1, 1, 0, 0, 1, 1, 0, 1, 1, 0, 0, 1, 0,\n",
       "       1, 0, 1, 1, 1, 0, 1, 0, 1, 1, 1, 0, 1, 1, 1, 1, 0, 1, 1, 1, 0, 1,\n",
       "       0, 1, 0, 0, 1, 1, 0, 1, 1, 1, 1, 1, 1, 0, 1, 1, 1, 1, 1, 1, 0, 1,\n",
       "       1, 1, 0, 1], dtype=int64)"
      ]
     },
     "execution_count": 4,
     "metadata": {},
     "output_type": "execute_result"
    }
   ],
   "source": [
    "y = data_set.iloc[:, -1].values\n",
    "y"
   ]
  },
  {
   "cell_type": "markdown",
   "metadata": {},
   "source": [
    "### Taking Care of Catagorical Data"
   ]
  },
  {
   "cell_type": "code",
   "execution_count": 5,
   "metadata": {},
   "outputs": [],
   "source": [
    "from sklearn.preprocessing import LabelEncoder\n",
    "label_encoder = LabelEncoder()\n",
    "X[:, 0] = label_encoder.fit_transform(X[:, 0])"
   ]
  },
  {
   "cell_type": "code",
   "execution_count": 6,
   "metadata": {
    "scrolled": true
   },
   "outputs": [
    {
     "data": {
      "text/plain": [
       "array([[1, 19, 19000],\n",
       "       [1, 35, 20000],\n",
       "       [0, 26, 43000],\n",
       "       ...,\n",
       "       [0, 50, 20000],\n",
       "       [1, 36, 33000],\n",
       "       [0, 49, 36000]], dtype=object)"
      ]
     },
     "execution_count": 6,
     "metadata": {},
     "output_type": "execute_result"
    }
   ],
   "source": [
    "X"
   ]
  },
  {
   "cell_type": "code",
   "execution_count": 20,
   "metadata": {},
   "outputs": [],
   "source": [
    "from sklearn.preprocessing import OneHotEncoder\n",
    "one_hot_encoder = OneHotEncoder(categories = 'auto')\n",
    "X = one_hot_encoder.fit_transform(X)"
   ]
  },
  {
   "cell_type": "code",
   "execution_count": 22,
   "metadata": {
    "scrolled": true
   },
   "outputs": [
    {
     "data": {
      "text/plain": [
       "array([[0., 1., 0., ..., 0., 0., 0.],\n",
       "       [0., 1., 0., ..., 0., 0., 0.],\n",
       "       [1., 0., 0., ..., 0., 0., 0.],\n",
       "       ...,\n",
       "       [1., 0., 0., ..., 0., 0., 0.],\n",
       "       [0., 1., 0., ..., 0., 0., 0.],\n",
       "       [1., 0., 0., ..., 0., 0., 0.]])"
      ]
     },
     "execution_count": 22,
     "metadata": {},
     "output_type": "execute_result"
    }
   ],
   "source": [
    "X.toarray()"
   ]
  },
  {
   "cell_type": "markdown",
   "metadata": {},
   "source": [
    "### Spliting Data Set Into Training and Testing Sets"
   ]
  },
  {
   "cell_type": "code",
   "execution_count": 23,
   "metadata": {},
   "outputs": [],
   "source": [
    "from sklearn.model_selection import train_test_split"
   ]
  },
  {
   "cell_type": "code",
   "execution_count": 24,
   "metadata": {},
   "outputs": [],
   "source": [
    "X_train, X_test, y_train, y_test = train_test_split(X, y)"
   ]
  },
  {
   "cell_type": "code",
   "execution_count": 25,
   "metadata": {},
   "outputs": [
    {
     "name": "stdout",
     "output_type": "stream",
     "text": [
      "  (0, 0)\t1.0\n",
      "  (0, 42)\t1.0\n",
      "  (0, 124)\t1.0\n",
      "  (1, 0)\t1.0\n",
      "  (1, 11)\t1.0\n",
      "  (1, 84)\t1.0\n",
      "  (2, 0)\t1.0\n",
      "  (2, 32)\t1.0\n",
      "  (2, 58)\t1.0\n",
      "  (3, 1)\t1.0\n",
      "  (3, 21)\t1.0\n",
      "  (3, 83)\t1.0\n",
      "  (4, 0)\t1.0\n",
      "  (4, 37)\t1.0\n",
      "  (4, 63)\t1.0\n",
      "  (5, 1)\t1.0\n",
      "  (5, 7)\t1.0\n",
      "  (5, 90)\t1.0\n",
      "  (6, 0)\t1.0\n",
      "  (6, 17)\t1.0\n",
      "  (6, 132)\t1.0\n",
      "  (7, 1)\t1.0\n",
      "  (7, 8)\t1.0\n",
      "  (7, 49)\t1.0\n",
      "  (8, 1)\t1.0\n",
      "  :\t:\n",
      "  (291, 160)\t1.0\n",
      "  (292, 1)\t1.0\n",
      "  (292, 30)\t1.0\n",
      "  (292, 57)\t1.0\n",
      "  (293, 0)\t1.0\n",
      "  (293, 13)\t1.0\n",
      "  (293, 75)\t1.0\n",
      "  (294, 1)\t1.0\n",
      "  (294, 25)\t1.0\n",
      "  (294, 80)\t1.0\n",
      "  (295, 0)\t1.0\n",
      "  (295, 43)\t1.0\n",
      "  (295, 102)\t1.0\n",
      "  (296, 1)\t1.0\n",
      "  (296, 5)\t1.0\n",
      "  (296, 114)\t1.0\n",
      "  (297, 0)\t1.0\n",
      "  (297, 11)\t1.0\n",
      "  (297, 150)\t1.0\n",
      "  (298, 0)\t1.0\n",
      "  (298, 26)\t1.0\n",
      "  (298, 106)\t1.0\n",
      "  (299, 1)\t1.0\n",
      "  (299, 25)\t1.0\n",
      "  (299, 113)\t1.0   (0, 1)\t1.0\n",
      "  (0, 3)\t1.0\n",
      "  (0, 96)\t1.0\n",
      "  (1, 0)\t1.0\n",
      "  (1, 30)\t1.0\n",
      "  (1, 100)\t1.0\n",
      "  (2, 1)\t1.0\n",
      "  (2, 40)\t1.0\n",
      "  (2, 147)\t1.0\n",
      "  (3, 0)\t1.0\n",
      "  (3, 26)\t1.0\n",
      "  (3, 81)\t1.0\n",
      "  (4, 1)\t1.0\n",
      "  (4, 27)\t1.0\n",
      "  (4, 144)\t1.0\n",
      "  (5, 0)\t1.0\n",
      "  (5, 12)\t1.0\n",
      "  (5, 66)\t1.0\n",
      "  (6, 0)\t1.0\n",
      "  (6, 43)\t1.0\n",
      "  (6, 114)\t1.0\n",
      "  (7, 0)\t1.0\n",
      "  (7, 15)\t1.0\n",
      "  (7, 94)\t1.0\n",
      "  (8, 0)\t1.0\n",
      "  :\t:\n",
      "  (91, 104)\t1.0\n",
      "  (92, 0)\t1.0\n",
      "  (92, 23)\t1.0\n",
      "  (92, 99)\t1.0\n",
      "  (93, 1)\t1.0\n",
      "  (93, 12)\t1.0\n",
      "  (93, 86)\t1.0\n",
      "  (94, 1)\t1.0\n",
      "  (94, 12)\t1.0\n",
      "  (94, 141)\t1.0\n",
      "  (95, 0)\t1.0\n",
      "  (95, 29)\t1.0\n",
      "  (95, 52)\t1.0\n",
      "  (96, 0)\t1.0\n",
      "  (96, 13)\t1.0\n",
      "  (96, 109)\t1.0\n",
      "  (97, 0)\t1.0\n",
      "  (97, 21)\t1.0\n",
      "  (97, 89)\t1.0\n",
      "  (98, 0)\t1.0\n",
      "  (98, 10)\t1.0\n",
      "  (98, 45)\t1.0\n",
      "  (99, 0)\t1.0\n",
      "  (99, 31)\t1.0\n",
      "  (99, 156)\t1.0 [1 0 1 0 1 0 0 0 0 0 1 1 0 0 0 1 1 1 0 1 1 0 1 1 0 0 1 0 0 0 0 0 0 0 1 0 1\n",
      " 0 0 1 0 1 0 0 0 0 1 0 0 0 1 0 0 0 0 1 1 1 0 1 0 0 0 0 0 1 1 1 0 0 0 0 0 0\n",
      " 1 0 1 1 0 0 0 0 0 0 0 1 0 0 0 0 0 1 1 0 1 1 0 1 0 0 0 0 1 0 0 0 0 0 0 0 0\n",
      " 0 0 1 0 0 0 1 0 1 0 1 0 0 1 0 0 0 0 1 1 1 1 0 0 0 0 1 0 1 0 0 0 0 0 1 1 0\n",
      " 0 1 0 1 0 0 0 0 1 1 0 0 0 0 0 0 1 1 1 0 1 0 0 0 0 0 1 0 1 1 0 0 0 0 0 0 0\n",
      " 1 0 0 0 0 0 0 0 1 0 1 0 1 0 0 0 0 0 0 0 0 1 0 0 0 0 0 0 0 0 1 0 0 1 0 0 0\n",
      " 0 1 0 1 0 0 0 0 1 0 1 0 0 1 0 0 0 0 1 1 1 0 1 1 1 1 0 1 0 1 1 0 1 1 0 0 0\n",
      " 1 0 0 0 1 1 0 0 0 0 0 0 0 1 1 1 0 0 0 1 0 1 0 1 0 1 0 0 0 1 0 1 1 1 0 0 1\n",
      " 0 1 1 1] [0 0 1 0 1 0 1 0 0 0 0 1 0 0 1 0 1 0 0 1 1 0 1 0 0 0 0 0 1 0 0 1 0 0 0 0 0\n",
      " 1 0 1 0 1 1 0 0 1 0 1 1 0 0 0 1 1 0 1 0 1 1 0 1 1 0 0 0 0 1 1 1 0 0 1 0 1\n",
      " 1 0 1 0 1 0 0 0 1 1 0 1 0 1 0 0 1 0 0 0 1 1 0 0 0 1]\n"
     ]
    }
   ],
   "source": [
    "print(X_train, X_test, y_train, y_test)"
   ]
  },
  {
   "cell_type": "markdown",
   "metadata": {},
   "source": [
    "### Feature Scaling"
   ]
  },
  {
   "cell_type": "code",
   "execution_count": 26,
   "metadata": {},
   "outputs": [],
   "source": [
    "from sklearn.preprocessing import StandardScaler"
   ]
  },
  {
   "cell_type": "code",
   "execution_count": 33,
   "metadata": {},
   "outputs": [],
   "source": [
    "sc = StandardScaler(with_mean = False)\n",
    "X_train = sc.fit_transform(X_train)\n",
    "X_test = sc.fit_transform(X_test)"
   ]
  },
  {
   "cell_type": "code",
   "execution_count": 34,
   "metadata": {},
   "outputs": [
    {
     "name": "stdout",
     "output_type": "stream",
     "text": [
      "  (0, 0)\t2.0000444459259796\n",
      "  (0, 42)\t7.811334658849433\n",
      "  (0, 124)\t17.349447958987206\n",
      "  (1, 0)\t2.0000444459259796\n",
      "  (1, 11)\t5.103103630798288\n",
      "  (1, 84)\t12.288478807785609\n",
      "  (2, 0)\t2.0000444459259796\n",
      "  (2, 32)\t5.320788433725242\n",
      "  (2, 58)\t12.288478807785609\n",
      "  (3, 1)\t2.000044445925981\n",
      "  (3, 21)\t4.45043121822695\n",
      "  (3, 83)\t6.62427608438279\n",
      "  (4, 0)\t2.0000444459259796\n",
      "  (4, 37)\t7.811334658849433\n",
      "  (4, 63)\t10.05037815259212\n",
      "  (5, 1)\t2.000044445925981\n",
      "  (5, 7)\t7.811334658849433\n",
      "  (5, 90)\t8.718572905786447\n",
      "  (6, 0)\t2.0000444459259796\n",
      "  (6, 17)\t5.862103817605491\n",
      "  (6, 132)\t10.05037815259212\n",
      "  (7, 1)\t2.000044445925981\n",
      "  (7, 8)\t6.20704416451776\n",
      "  (7, 49)\t17.349447958987206\n",
      "  (8, 1)\t2.000044445925981\n",
      "  :\t:\n",
      "  (291, 160)\t12.288478807785609\n",
      "  (292, 1)\t2.000044445925981\n",
      "  (292, 30)\t5.570860145311555\n",
      "  (292, 57)\t7.142857142857143\n",
      "  (293, 0)\t2.0000444459259796\n",
      "  (293, 13)\t5.862103817605491\n",
      "  (293, 75)\t8.718572905786447\n",
      "  (294, 1)\t2.000044445925981\n",
      "  (294, 25)\t4.588314677411236\n",
      "  (294, 80)\t12.288478807785609\n",
      "  (295, 0)\t2.0000444459259796\n",
      "  (295, 43)\t10.05037815259212\n",
      "  (295, 102)\t12.288478807785609\n",
      "  (296, 1)\t2.000044445925981\n",
      "  (296, 5)\t10.05037815259212\n",
      "  (296, 114)\t7.142857142857143\n",
      "  (297, 0)\t2.0000444459259796\n",
      "  (297, 11)\t5.103103630798288\n",
      "  (297, 150)\t12.288478807785609\n",
      "  (298, 0)\t2.0000444459259796\n",
      "  (298, 26)\t6.20704416451776\n",
      "  (298, 106)\t5.570860145311555\n",
      "  (299, 1)\t2.000044445925981\n",
      "  (299, 25)\t4.588314677411236\n",
      "  (299, 113)\t17.349447958987206   (0, 1)\t2.0036097492521523\n",
      "  (0, 3)\t5.103103630798287\n",
      "  (0, 96)\t7.142857142857142\n",
      "  (1, 0)\t2.0036097492521523\n",
      "  (1, 30)\t7.142857142857142\n",
      "  (1, 100)\t10.05037815259212\n",
      "  (2, 1)\t2.0036097492521523\n",
      "  (2, 40)\t7.142857142857142\n",
      "  (2, 147)\t10.050378152592122\n",
      "  (3, 0)\t2.0036097492521523\n",
      "  (3, 26)\t3.6860489038724285\n",
      "  (3, 81)\t7.142857142857142\n",
      "  (4, 1)\t2.0036097492521523\n",
      "  (4, 27)\t7.142857142857142\n",
      "  (4, 144)\t10.050378152592122\n",
      "  (5, 0)\t2.0036097492521523\n",
      "  (5, 12)\t4.210759605332595\n",
      "  (5, 66)\t10.050378152592122\n",
      "  (6, 0)\t2.0036097492521523\n",
      "  (6, 43)\t5.103103630798287\n",
      "  (6, 114)\t10.05037815259212\n",
      "  (7, 0)\t2.0036097492521523\n",
      "  (7, 15)\t7.142857142857143\n",
      "  (7, 94)\t7.142857142857142\n",
      "  (8, 0)\t2.0036097492521523\n",
      "  :\t:\n",
      "  (91, 104)\t7.142857142857143\n",
      "  (92, 0)\t2.0036097492521523\n",
      "  (92, 23)\t4.210759605332594\n",
      "  (92, 99)\t10.05037815259212\n",
      "  (93, 1)\t2.0036097492521523\n",
      "  (93, 12)\t4.210759605332595\n",
      "  (93, 86)\t10.05037815259212\n",
      "  (94, 1)\t2.0036097492521523\n",
      "  (94, 12)\t4.210759605332595\n",
      "  (94, 141)\t10.050378152592122\n",
      "  (95, 0)\t2.0036097492521523\n",
      "  (95, 29)\t7.142857142857142\n",
      "  (95, 52)\t5.862103817605492\n",
      "  (96, 0)\t2.0036097492521523\n",
      "  (96, 13)\t10.05037815259212\n",
      "  (96, 109)\t7.142857142857142\n",
      "  (97, 0)\t2.0036097492521523\n",
      "  (97, 21)\t5.103103630798287\n",
      "  (97, 89)\t10.050378152592122\n",
      "  (98, 0)\t2.0036097492521523\n",
      "  (98, 10)\t4.588314677411236\n",
      "  (98, 45)\t10.050378152592122\n",
      "  (99, 0)\t2.0036097492521523\n",
      "  (99, 31)\t4.210759605332595\n",
      "  (99, 156)\t10.050378152592122\n"
     ]
    }
   ],
   "source": [
    "print(X_train, X_test)"
   ]
  },
  {
   "cell_type": "markdown",
   "metadata": {},
   "source": [
    "### Classifying"
   ]
  },
  {
   "cell_type": "code",
   "execution_count": 35,
   "metadata": {},
   "outputs": [],
   "source": [
    "from sklearn.naive_bayes import GaussianNB"
   ]
  },
  {
   "cell_type": "code",
   "execution_count": 37,
   "metadata": {},
   "outputs": [
    {
     "data": {
      "text/plain": [
       "GaussianNB(priors=None, var_smoothing=1e-09)"
      ]
     },
     "execution_count": 37,
     "metadata": {},
     "output_type": "execute_result"
    }
   ],
   "source": [
    "classifier = GaussianNB()\n",
    "classifier.fit(X_train.toarray(), y_train)"
   ]
  },
  {
   "cell_type": "markdown",
   "metadata": {},
   "source": [
    "### Predicting"
   ]
  },
  {
   "cell_type": "code",
   "execution_count": 39,
   "metadata": {},
   "outputs": [],
   "source": [
    "y_pred = classifier.predict(X_test.toarray())"
   ]
  },
  {
   "cell_type": "code",
   "execution_count": 40,
   "metadata": {},
   "outputs": [
    {
     "name": "stdout",
     "output_type": "stream",
     "text": [
      "0 1\n",
      "0 1\n",
      "1 0\n",
      "0 0\n",
      "1 0\n",
      "0 0\n",
      "1 1\n",
      "0 0\n",
      "0 1\n",
      "0 1\n",
      "0 1\n",
      "1 1\n",
      "0 0\n",
      "0 0\n",
      "1 1\n",
      "0 0\n",
      "1 1\n",
      "0 0\n",
      "0 1\n",
      "1 1\n",
      "1 1\n",
      "0 0\n",
      "1 1\n",
      "0 0\n",
      "0 1\n",
      "0 1\n",
      "0 1\n",
      "0 0\n",
      "1 0\n",
      "0 0\n",
      "0 0\n",
      "1 0\n",
      "0 1\n",
      "0 0\n",
      "0 0\n",
      "0 0\n",
      "0 1\n",
      "1 1\n",
      "0 0\n",
      "1 1\n",
      "0 0\n",
      "1 1\n",
      "1 0\n",
      "0 0\n",
      "0 0\n",
      "1 1\n",
      "0 0\n",
      "1 1\n",
      "1 0\n",
      "0 1\n",
      "0 0\n",
      "0 0\n",
      "1 1\n",
      "1 1\n",
      "0 1\n",
      "1 1\n",
      "0 0\n",
      "1 1\n",
      "1 1\n",
      "0 0\n",
      "1 1\n",
      "1 1\n",
      "0 0\n",
      "0 1\n",
      "0 0\n",
      "0 0\n",
      "1 1\n",
      "1 1\n",
      "1 1\n",
      "0 0\n",
      "0 1\n",
      "1 1\n",
      "0 1\n",
      "1 1\n",
      "1 0\n",
      "0 1\n",
      "1 1\n",
      "0 1\n",
      "1 1\n",
      "0 0\n",
      "0 0\n",
      "0 1\n",
      "1 1\n",
      "1 1\n",
      "0 0\n",
      "1 1\n",
      "0 0\n",
      "1 1\n",
      "0 0\n",
      "0 0\n",
      "1 0\n",
      "0 1\n",
      "0 1\n",
      "0 0\n",
      "1 0\n",
      "1 0\n",
      "0 0\n",
      "0 0\n",
      "0 0\n",
      "1 1\n"
     ]
    }
   ],
   "source": [
    "for _ in zip(y_test, y_pred):\n",
    "    print(*_)"
   ]
  },
  {
   "cell_type": "markdown",
   "metadata": {},
   "source": [
    "### Confussion Matrix"
   ]
  },
  {
   "cell_type": "code",
   "execution_count": 41,
   "metadata": {},
   "outputs": [],
   "source": [
    "from sklearn.metrics import confusion_matrix"
   ]
  },
  {
   "cell_type": "code",
   "execution_count": 42,
   "metadata": {},
   "outputs": [
    {
     "name": "stdout",
     "output_type": "stream",
     "text": [
      "[[38 21]\n",
      " [10 31]]\n"
     ]
    }
   ],
   "source": [
    "cm = confusion_matrix(y_test, y_pred)\n",
    "print(cm)"
   ]
  },
  {
   "cell_type": "markdown",
   "metadata": {},
   "source": [
    "### Visualizing Training Data Set"
   ]
  },
  {
   "cell_type": "markdown",
   "metadata": {},
   "source": [
    "### Visualizing Test Set"
   ]
  },
  {
   "cell_type": "markdown",
   "metadata": {},
   "source": [
    "# END"
   ]
  }
 ],
 "metadata": {
  "kernelspec": {
   "display_name": "Python 3",
   "language": "python",
   "name": "python3"
  },
  "language_info": {
   "codemirror_mode": {
    "name": "ipython",
    "version": 3
   },
   "file_extension": ".py",
   "mimetype": "text/x-python",
   "name": "python",
   "nbconvert_exporter": "python",
   "pygments_lexer": "ipython3",
   "version": "3.7.6"
  }
 },
 "nbformat": 4,
 "nbformat_minor": 4
}
